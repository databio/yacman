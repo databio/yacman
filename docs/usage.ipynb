{
 "cells": [
  {
   "cell_type": "markdown",
   "metadata": {},
   "source": [
    "# `yacman` features and usage\n",
    "\n",
    "This short tutorial show you the features of `yacman` package in action.\n",
    "\n",
    "First, let's prepare some data to work with"
   ]
  },
  {
   "cell_type": "code",
   "execution_count": 1,
   "metadata": {},
   "outputs": [],
   "source": [
    "import yaml\n",
    "yaml_dict = {'cfg_version': 0.1, 'lvl1': {'lvl2': {'lvl3': {'entry': ['val1', 'val2']}}}}\n",
    "yaml_str = \"\"\"\\\n",
    "cfg_version: 0.1\n",
    "lvl1:\n",
    "  lvl2:\n",
    "    lvl3:\n",
    "      entry: [\"val1\",\"val2\"]\n",
    "\"\"\"\n",
    "filepath = \"test.yaml\"\n",
    "\n",
    "with open(filepath, 'w') as f:\n",
    "    data = yaml.dump(yaml_dict, f)\n",
    "    \n",
    "import yacman"
   ]
  },
  {
   "cell_type": "markdown",
   "metadata": {},
   "source": [
    "##  `YacAttMap` object creation\n",
    "\n",
    "There are multiple ways to initialize an object of `YacAttMap` class:"
   ]
  },
  {
   "cell_type": "markdown",
   "metadata": {},
   "source": [
    "1. **Read data from a YAML-formatted file**"
   ]
  },
  {
   "cell_type": "code",
   "execution_count": 2,
   "metadata": {},
   "outputs": [
    {
     "data": {
      "text/plain": [
       "cfg_version: 0.1\n",
       "lvl1:\n",
       "  lvl2:\n",
       "    lvl3:\n",
       "      entry: ['val1', 'val2']"
      ]
     },
     "execution_count": 2,
     "metadata": {},
     "output_type": "execute_result"
    }
   ],
   "source": [
    "yacmap = yacman.YacAttMap(filepath=filepath)\n",
    "yacmap"
   ]
  },
  {
   "cell_type": "markdown",
   "metadata": {},
   "source": [
    "2. **Read data from an `entries` mapping**"
   ]
  },
  {
   "cell_type": "code",
   "execution_count": 3,
   "metadata": {},
   "outputs": [
    {
     "data": {
      "text/plain": [
       "cfg_version: 0.1\n",
       "lvl1:\n",
       "  lvl2:\n",
       "    lvl3:\n",
       "      entry: ['val1', 'val2']"
      ]
     },
     "execution_count": 3,
     "metadata": {},
     "output_type": "execute_result"
    }
   ],
   "source": [
    "yacmap = yacman.YacAttMap(entries=yaml_dict)\n",
    "yacmap"
   ]
  },
  {
   "cell_type": "markdown",
   "metadata": {},
   "source": [
    "3. **Read data from a YAML-formatted string**"
   ]
  },
  {
   "cell_type": "code",
   "execution_count": 4,
   "metadata": {},
   "outputs": [
    {
     "data": {
      "text/plain": [
       "cfg_version: 0.1\n",
       "lvl1:\n",
       "  lvl2:\n",
       "    lvl3:\n",
       "      entry: ['val1', 'val2']"
      ]
     },
     "execution_count": 4,
     "metadata": {},
     "output_type": "execute_result"
    }
   ],
   "source": [
    "yacmap = yacman.YacAttMap(yamldata=yaml_str)\n",
    "yacmap"
   ]
  },
  {
   "cell_type": "markdown",
   "metadata": {},
   "source": [
    "## File locks; race-free writing\n",
    "Instances of `YacAttMap` class support race-free writing and file locking, so that **it's safe to use them in multi-user contexts**\n",
    "\n",
    "They can be created with or without write capabilities. Writable objects create a file lock, which prevents other processes managed by `yacman` from updating the source config file.\n",
    "\n",
    "`writable` argument in the object constructor can be used to toggle writable mode. The source config file can be updated on disk (using `write` method) only if the `YacAttMap` instance is in writable mode"
   ]
  },
  {
   "cell_type": "code",
   "execution_count": 5,
   "metadata": {},
   "outputs": [
    {
     "name": "stdout",
     "output_type": "stream",
     "text": [
      "Error caught: You can't call write on an object that was created in read-only mode.\n"
     ]
    },
    {
     "data": {
      "text/plain": [
       "'/Users/mstolarczyk/Uczelnia/UVA/code/yacman/docs/test.yaml'"
      ]
     },
     "execution_count": 5,
     "metadata": {},
     "output_type": "execute_result"
    }
   ],
   "source": [
    "yacmap = yacman.YacAttMap(filepath=filepath, writable=False)\n",
    "\n",
    "\n",
    "try:\n",
    "    yacmap.write()\n",
    "except OSError as e:\n",
    "    print(\"Error caught: {}\".format(e))\n",
    "\n",
    "yacmap = yacman.YacAttMap(filepath=filepath, writable=True)\n",
    "yacmap.write()\n"
   ]
  },
  {
   "cell_type": "markdown",
   "metadata": {},
   "source": [
    "The write capabilities can be granted to an object:"
   ]
  },
  {
   "cell_type": "code",
   "execution_count": 6,
   "metadata": {},
   "outputs": [
    {
     "data": {
      "text/plain": [
       "'/Users/mstolarczyk/Uczelnia/UVA/code/yacman/docs/test.yaml'"
      ]
     },
     "execution_count": 6,
     "metadata": {},
     "output_type": "execute_result"
    }
   ],
   "source": [
    "yacmap = yacman.YacAttMap(filepath=filepath, writable=False)\n",
    "yacmap.make_writable()\n",
    "yacmap.write()"
   ]
  },
  {
   "cell_type": "markdown",
   "metadata": {},
   "source": [
    "Or withheld:"
   ]
  },
  {
   "cell_type": "code",
   "execution_count": 7,
   "metadata": {},
   "outputs": [
    {
     "data": {
      "text/plain": [
       "True"
      ]
     },
     "execution_count": 7,
     "metadata": {},
     "output_type": "execute_result"
    }
   ],
   "source": [
    "yacmap.make_readonly()"
   ]
  },
  {
   "cell_type": "markdown",
   "metadata": {},
   "source": [
    "If a file is currently locked by other `YacAttMap` object. The object will not be made writable/created with write capabilities until the lock is gone. If the lock persists, the action will fail (with a `RuntimeError`) after a selected `wait_time`, which is 10s by default:"
   ]
  },
  {
   "cell_type": "code",
   "execution_count": null,
   "metadata": {},
   "outputs": [
    {
     "name": "stdout",
     "output_type": "stream",
     "text": [
      "Waiting for file lock: lock.test.yaml ..\n",
      "Error caught: The maximum wait time has been reached and the lock file still exists.\n",
      "Waiting for file lock: /Users/mstolarczyk/Uczelnia/UVA/code/yacman/docs/lock.test.yaml .."
     ]
    }
   ],
   "source": [
    "yacmap = yacman.YacAttMap(filepath=filepath, writable=True)\n",
    "\n",
    "try:\n",
    "    yacmap1 = yacman.YacAttMap(filepath=filepath, writable=True, wait_max=1)\n",
    "except RuntimeError as e:\n",
    "    print(\"\\nError caught: {}\".format(e))\n",
    "    \n",
    "try:\n",
    "    yacmap1 = yacman.YacAttMap(filepath=filepath, writable=False, wait_max=1)\n",
    "    yacmap1.make_writable()\n",
    "except RuntimeError as e:\n",
    "    print(\"\\nError caught: {}\".format(e))\n"
   ]
  },
  {
   "cell_type": "markdown",
   "metadata": {},
   "source": [
    "Lastly, the `YacAttMap` class instances **can be used in a context manager**. This way the source config file will be locked, possibly updated (depending on what the user chooses to do), safely written to and unlocked with a single line of code:"
   ]
  },
  {
   "cell_type": "code",
   "execution_count": null,
   "metadata": {},
   "outputs": [],
   "source": [
    "yacmap = yacman.YacAttMap(filepath=filepath)\n",
    "\n",
    "with yacmap as y:\n",
    "    y.test = \"test\"\n",
    "\n",
    "yacmap1 = yacman.YacAttMap(filepath=filepath)\n",
    "yacmap1"
   ]
  }
 ],
 "metadata": {
  "kernelspec": {
   "display_name": "Python 3",
   "language": "python",
   "name": "python3"
  },
  "language_info": {
   "codemirror_mode": {
    "name": "ipython",
    "version": 3
   },
   "file_extension": ".py",
   "mimetype": "text/x-python",
   "name": "python",
   "nbconvert_exporter": "python",
   "pygments_lexer": "ipython3",
   "version": "3.6.5"
  }
 },
 "nbformat": 4,
 "nbformat_minor": 2
}
