{
 "cells": [
  {
   "cell_type": "markdown",
   "metadata": {},
   "source": [
    "# `yacman` features and usage\n",
    "\n",
    "This short tutorial show you the features of `yacman` package in action.\n",
    "\n",
    "First, let's prepare some data to work with"
   ]
  },
  {
   "cell_type": "code",
   "execution_count": 1,
   "metadata": {},
   "outputs": [],
   "source": [
    "import yaml\n",
    "yaml_dict = {'cfg_version': 0.1, 'lvl1': {'lvl2': {'lvl3': {'entry': ['val1', 'val2']}}}}\n",
    "yaml_str = \"\"\"\\\n",
    "cfg_version: 0.1\n",
    "lvl1:\n",
    "  lvl2:\n",
    "    lvl3:\n",
    "      entry: [\"val1\",\"val2\"]\n",
    "\"\"\"\n",
    "filepath = \"test.yaml\"\n",
    "\n",
    "with open(filepath, 'w') as f:\n",
    "    data = yaml.dump(yaml_dict, f)\n",
    "    \n",
    "import yacman"
   ]
  },
  {
   "cell_type": "markdown",
   "metadata": {},
   "source": [
    "##  `YacAttMap` object creation\n",
    "\n",
    "There are multiple ways to initialize an object of `YacAttMap` class:"
   ]
  },
  {
   "cell_type": "markdown",
   "metadata": {},
   "source": [
    "1. **Read data from a YAML-formatted file**"
   ]
  },
  {
   "cell_type": "code",
   "execution_count": 2,
   "metadata": {},
   "outputs": [
    {
     "data": {
      "text/plain": [
       "cfg_version: 0.1\n",
       "lvl1:\n",
       "  lvl2:\n",
       "    lvl3:\n",
       "      entry: ['val1', 'val2']"
      ]
     },
     "execution_count": 2,
     "metadata": {},
     "output_type": "execute_result"
    }
   ],
   "source": [
    "yacmap = yacman.YacAttMap(filepath=filepath)\n",
    "yacmap"
   ]
  },
  {
   "cell_type": "markdown",
   "metadata": {},
   "source": [
    "2. **Read data from an `entries` mapping**"
   ]
  },
  {
   "cell_type": "code",
   "execution_count": 3,
   "metadata": {},
   "outputs": [
    {
     "data": {
      "text/plain": [
       "cfg_version: 0.1\n",
       "lvl1:\n",
       "  lvl2:\n",
       "    lvl3:\n",
       "      entry: ['val1', 'val2']"
      ]
     },
     "execution_count": 3,
     "metadata": {},
     "output_type": "execute_result"
    }
   ],
   "source": [
    "yacmap = yacman.YacAttMap(entries=yaml_dict)\n",
    "yacmap"
   ]
  },
  {
   "cell_type": "markdown",
   "metadata": {},
   "source": [
    "3. **Read data from a YAML-formatted string**"
   ]
  },
  {
   "cell_type": "code",
   "execution_count": 4,
   "metadata": {},
   "outputs": [
    {
     "data": {
      "text/plain": [
       "cfg_version: 0.1\n",
       "lvl1:\n",
       "  lvl2:\n",
       "    lvl3:\n",
       "      entry: ['val1', 'val2']"
      ]
     },
     "execution_count": 4,
     "metadata": {},
     "output_type": "execute_result"
    }
   ],
   "source": [
    "yacmap = yacman.YacAttMap(yamldata=yaml_str)\n",
    "yacmap"
   ]
  },
  {
   "cell_type": "markdown",
   "metadata": {},
   "source": [
    "## File locks; race-free writing\n",
    "Instances of `YacAttMap` class support race-free writing and file locking, so that **it's safe to use them in multi-user contexts**\n",
    "\n",
    "They can be created with or without write capabilities. Writable objects create a file lock, which prevents other processes managed by `yacman` from updating the source config file.\n",
    "\n",
    "`writable` argument in the object constructor can be used to toggle writable mode. The source config file can be updated on disk (using `write` method) only if the `YacAttMap` instance is in writable mode"
   ]
  },
  {
   "cell_type": "code",
   "execution_count": 5,
   "metadata": {},
   "outputs": [
    {
     "name": "stdout",
     "output_type": "stream",
     "text": [
      "Error caught: You can't call write on an object that was created in read-only mode.\n"
     ]
    }
   ],
   "source": [
    "yacmap = yacman.YacAttMap(filepath=filepath, writable=False)\n",
    "\n",
    "\n",
    "try:\n",
    "    yacmap.write()\n",
    "except OSError as e:\n",
    "    print(\"Error caught: {}\".format(e))"
   ]
  },
  {
   "cell_type": "markdown",
   "metadata": {},
   "source": [
    "The write capabilities can be granted to an object:"
   ]
  },
  {
   "cell_type": "code",
   "execution_count": 6,
   "metadata": {},
   "outputs": [
    {
     "data": {
      "text/plain": [
       "'/Users/mstolarczyk/Uczelnia/UVA/code/yacman/docs/test.yaml'"
      ]
     },
     "execution_count": 6,
     "metadata": {},
     "output_type": "execute_result"
    }
   ],
   "source": [
    "yacmap = yacman.YacAttMap(filepath=filepath, writable=False)\n",
    "yacmap.make_writable()\n",
    "yacmap.write()"
   ]
  },
  {
   "cell_type": "markdown",
   "metadata": {},
   "source": [
    "Or withheld:"
   ]
  },
  {
   "cell_type": "code",
   "execution_count": 7,
   "metadata": {},
   "outputs": [
    {
     "data": {
      "text/plain": [
       "True"
      ]
     },
     "execution_count": 7,
     "metadata": {},
     "output_type": "execute_result"
    }
   ],
   "source": [
    "yacmap.make_readonly()"
   ]
  },
  {
   "cell_type": "markdown",
   "metadata": {},
   "source": [
    "If a file is currently locked by other `YacAttMap` object. The object will not be made writable/created with write capabilities until the lock is gone. If the lock persists, the action will fail (with a `RuntimeError`) after a selected `wait_time`, which is 10s by default:"
   ]
  },
  {
   "cell_type": "code",
   "execution_count": 8,
   "metadata": {},
   "outputs": [
    {
     "name": "stdout",
     "output_type": "stream",
     "text": [
      "Waiting for file lock: lock.test.yaml ....\n",
      "Error caught: The maximum wait time (1) has been reached and the lock file still exists.\n"
     ]
    },
    {
     "data": {
      "text/plain": [
       "True"
      ]
     },
     "execution_count": 8,
     "metadata": {},
     "output_type": "execute_result"
    }
   ],
   "source": [
    "yacmap = yacman.YacAttMap(filepath=filepath, writable=True)\n",
    "\n",
    "try:\n",
    "    yacmap1 = yacman.YacAttMap(filepath=filepath, writable=True, wait_max=1)\n",
    "except RuntimeError as e:\n",
    "    print(\"\\nError caught: {}\".format(e))\n",
    "yacmap.make_readonly()"
   ]
  },
  {
   "cell_type": "markdown",
   "metadata": {},
   "source": [
    "Lastly, the `YacAttMap` class instances **can be used in a context manager**. This way the source config file will be locked, possibly updated (depending on what the user chooses to do), safely written to and unlocked with a single line of code:"
   ]
  },
  {
   "cell_type": "code",
   "execution_count": 9,
   "metadata": {},
   "outputs": [
    {
     "data": {
      "text/plain": [
       "cfg_version: 0.1\n",
       "lvl1:\n",
       "  lvl2:\n",
       "    lvl3:\n",
       "      entry: ['val1', 'val2']\n",
       "test: test"
      ]
     },
     "execution_count": 9,
     "metadata": {},
     "output_type": "execute_result"
    }
   ],
   "source": [
    "yacmap = yacman.YacAttMap(filepath=filepath)\n",
    "\n",
    "with yacmap as y:\n",
    "    y.test = \"test\"\n",
    "\n",
    "yacmap1 = yacman.YacAttMap(filepath=filepath)\n",
    "yacmap1"
   ]
  },
  {
   "cell_type": "markdown",
   "metadata": {},
   "source": [
    "## Key aliases in `AliasedYacAttMap`\n",
    "\n",
    "`AliasedYacAttMap` is a child class of `YacAttMap` that supports top-level key aliases.\n",
    "\n",
    "### Defining the aliases\n",
    "\n",
    "There are two ways the aliases can be defined at the object construction stage:\n",
    "\n",
    "1. By passing a literal aliases dictionary\n",
    "2. By passing a function to be executed on the object itself that returns the dictionary\n",
    "\n",
    "In any case, the resulting aliases mapping has to follow the format presented below:"
   ]
  },
  {
   "cell_type": "code",
   "execution_count": 13,
   "metadata": {},
   "outputs": [],
   "source": [
    "aliases = {\n",
    "    \"key_1\": [\"first_key\", \"key_one\"], \n",
    "    \"key_2\": [\"second_key\", \"key_two\", \"fav_key\"],\n",
    "    \"key_3\": [\"third_key\", \"key_three\"]\n",
    "}"
   ]
  },
  {
   "cell_type": "markdown",
   "metadata": {},
   "source": [
    "#### Literal aliases dictionary\n",
    "The `aliases` argument in the `AliasedYacAttmap` below is a Python `dict` with that maps the object keys to collection of aliases (Python `list`s of `str`). This format is strictly enforced."
   ]
  },
  {
   "cell_type": "code",
   "execution_count": 14,
   "metadata": {},
   "outputs": [],
   "source": [
    "aliased_yacmap = yacman.AliasedYacAttMap(entries={'key_1': 'val_1', 'key_2': 'val_2', 'key_3': 'val_3'},\n",
    "                                         aliases=aliases)"
   ]
  },
  {
   "cell_type": "markdown",
   "metadata": {},
   "source": [
    "Having set the aliases we can key the object either with the literal key or the aliases:"
   ]
  },
  {
   "cell_type": "code",
   "execution_count": 15,
   "metadata": {},
   "outputs": [
    {
     "data": {
      "text/plain": [
       "True"
      ]
     },
     "execution_count": 15,
     "metadata": {},
     "output_type": "execute_result"
    }
   ],
   "source": [
    "aliased_yacmap[\"key_1\"] == aliased_yacmap[\"first_key\"]"
   ]
  },
  {
   "cell_type": "code",
   "execution_count": 16,
   "metadata": {},
   "outputs": [
    {
     "data": {
      "text/plain": [
       "True"
      ]
     },
     "execution_count": 16,
     "metadata": {},
     "output_type": "execute_result"
    }
   ],
   "source": [
    "aliased_yacmap[\"key_two\"] == aliased_yacmap[\"fav_key\"]"
   ]
  },
  {
   "cell_type": "markdown",
   "metadata": {},
   "source": [
    "#### Aliases returning function\n",
    "\n",
    "The `aliases` argument in the `AliasedYacAttmap` below is a Python `callable` that takes the obejcect itself as an argument and returns the desired aliases mapping. This is especially useful when the object itself contains the aliases definition, for example:"
   ]
  },
  {
   "cell_type": "code",
   "execution_count": 22,
   "metadata": {},
   "outputs": [],
   "source": [
    "entries={\n",
    "    'key_1': {'value': 'val_1', 'aliases': ['first_key']},\n",
    "    'key_2': {'value': 'val_2', 'aliases': ['second_key']},\n",
    "    'key_3': {'value': 'val_3', 'aliases': ['third_key']}\n",
    "}"
   ]
  },
  {
   "cell_type": "code",
   "execution_count": 23,
   "metadata": {},
   "outputs": [],
   "source": [
    "aliased_yacmap = yacman.AliasedYacAttMap(entries=entries, aliases=lambda x: {k: v.__getitem__(\"aliases\", expand=False) for k, v in x.items()})"
   ]
  },
  {
   "cell_type": "code",
   "execution_count": 24,
   "metadata": {},
   "outputs": [
    {
     "data": {
      "text/plain": [
       "AliasedYacAttMap\n",
       "key_1:\n",
       "  value: val_1\n",
       "  aliases: ['first_key']\n",
       "key_2:\n",
       "  value: val_2\n",
       "  aliases: ['second_key']\n",
       "key_3:\n",
       "  value: val_3\n",
       "  aliases: ['third_key']"
      ]
     },
     "execution_count": 24,
     "metadata": {},
     "output_type": "execute_result"
    }
   ],
   "source": [
    "aliased_yacmap"
   ]
  },
  {
   "cell_type": "code",
   "execution_count": null,
   "metadata": {},
   "outputs": [],
   "source": [
    "aliased_yacmap[\"key_1\"] == "
   ]
  }
 ],
 "metadata": {
  "kernelspec": {
   "display_name": "Python 3",
   "language": "python",
   "name": "python3"
  },
  "language_info": {
   "codemirror_mode": {
    "name": "ipython",
    "version": 3
   },
   "file_extension": ".py",
   "mimetype": "text/x-python",
   "name": "python",
   "nbconvert_exporter": "python",
   "pygments_lexer": "ipython3",
   "version": "3.6.5"
  }
 },
 "nbformat": 4,
 "nbformat_minor": 2
}
